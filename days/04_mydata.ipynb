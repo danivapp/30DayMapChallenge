{
 "cells": [
  {
   "cell_type": "code",
   "execution_count": null,
   "id": "349d367b",
   "metadata": {},
   "outputs": [],
   "source": [
    "#!pip install gpxpy matplotlib numpy scipy\n",
    "# !pip install fitparse pandas tqdm"
   ]
  },
  {
   "cell_type": "code",
   "execution_count": 3,
   "id": "d6554ed7",
   "metadata": {},
   "outputs": [],
   "source": [
    "from pathlib import Path\n",
    "import io, gzip\n",
    "import numpy as np\n",
    "import matplotlib.pyplot as plt"
   ]
  },
  {
   "cell_type": "code",
   "execution_count": 5,
   "id": "c0b30e93",
   "metadata": {},
   "outputs": [
    {
     "name": "stdout",
     "output_type": "stream",
     "text": [
      "Found 671 files\n"
     ]
    }
   ],
   "source": [
    "DATA_DIR = Path(\"/Users/dana/Documents/code/Python/30DayMapChallenge/data/04_mydata/activities\") \n",
    "gpx_files = list(DATA_DIR.glob(\"*.fit.gz\"))\n",
    "print(f\"Found {len(gpx_files)} files\")"
   ]
  },
  {
   "cell_type": "code",
   "execution_count": null,
   "id": "bf5574e9",
   "metadata": {},
   "outputs": [],
   "source": []
  }
 ],
 "metadata": {
  "kernelspec": {
   "display_name": "Python (mapch30)",
   "language": "python",
   "name": "mapch30"
  },
  "language_info": {
   "codemirror_mode": {
    "name": "ipython",
    "version": 3
   },
   "file_extension": ".py",
   "mimetype": "text/x-python",
   "name": "python",
   "nbconvert_exporter": "python",
   "pygments_lexer": "ipython3",
   "version": "3.11.13"
  }
 },
 "nbformat": 4,
 "nbformat_minor": 5
}
