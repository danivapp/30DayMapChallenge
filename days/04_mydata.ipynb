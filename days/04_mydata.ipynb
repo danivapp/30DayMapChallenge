{
 "cells": [
  {
   "cell_type": "code",
   "execution_count": null,
   "id": "349d367b",
   "metadata": {},
   "outputs": [],
   "source": [
    "#!pip install gpxpy matplotlib numpy scipy\n",
    "# !pip install fitparse pandas tqdm"
   ]
  },
  {
   "cell_type": "code",
   "execution_count": 12,
   "id": "d6554ed7",
   "metadata": {},
   "outputs": [],
   "source": [
    "from pathlib import Path\n",
    "import io, gzip\n",
    "import numpy as np\n",
    "import matplotlib.pyplot as plt\n",
    "from tqdm import tqdm"
   ]
  },
  {
   "cell_type": "code",
   "execution_count": 8,
   "id": "c0b30e93",
   "metadata": {},
   "outputs": [
    {
     "name": "stdout",
     "output_type": "stream",
     "text": [
      "Found 671 files\n"
     ]
    }
   ],
   "source": [
    "DATA_DIR = Path(\"/Users/dana/Documents/code/Python/30DayMapChallenge/data/04_mydata\") \n",
    "gpx_files = list(DATA_DIR.glob(\"*.fit.gz\"))\n",
    "print(f\"Found {len(gpx_files)} files\")"
   ]
  },
  {
   "cell_type": "code",
   "execution_count": 10,
   "id": "bf5574e9",
   "metadata": {},
   "outputs": [],
   "source": [
    "# ----------------------------\n",
    "# Helpers\n",
    "# ----------------------------\n",
    "def semicircles_to_degrees(val):\n",
    "    return float(val) * (180.0 / (2**31)) if val is not None else None\n",
    "\n",
    "def parse_fit_gz(path: Path):\n",
    "    \"\"\"Parse a .fit.gz file and return (lat, lon) arrays\"\"\"\n",
    "    import io, gzip\n",
    "    from fitparse import FitFile   \n",
    "\n",
    "    with gzip.open(path, \"rb\") as f:\n",
    "        data = f.read()\n",
    "    ff = FitFile(io.BytesIO(data))\n",
    "    lats, lons = [], []\n",
    "    for rec in ff.get_messages(\"record\"):\n",
    "        lat = lon = None\n",
    "        for f in rec:\n",
    "            if f.name == \"position_lat\":\n",
    "                lat = semicircles_to_degrees(f.value)\n",
    "            elif f.name == \"position_long\":\n",
    "                lon = semicircles_to_degrees(f.value)\n",
    "        if lat is not None and lon is not None:\n",
    "            lats.append(lat); lons.append(lon)\n",
    "    return np.array(lats, dtype=float), np.array(lons, dtype=float)"
   ]
  },
  {
   "cell_type": "code",
   "execution_count": 13,
   "id": "a922234c",
   "metadata": {},
   "outputs": [
    {
     "name": "stderr",
     "output_type": "stream",
     "text": [
      "Parsing FIT files: 100%|██████████| 671/671 [03:17<00:00,  3.40it/s]"
     ]
    },
    {
     "name": "stdout",
     "output_type": "stream",
     "text": [
      "Parsed 1,004,699 points from 671 files (skipped 0)\n",
      "Extent: Lon -17.13534 .. 104.20634, Lat 2.77609 .. 52.24928\n"
     ]
    },
    {
     "name": "stderr",
     "output_type": "stream",
     "text": [
      "\n"
     ]
    }
   ],
   "source": [
    "all_lat, all_lon = [], []\n",
    "skipped = 0\n",
    "for p in tqdm(gpx_files, desc=\"Parsing FIT files\"):\n",
    "    try:\n",
    "        lat, lon = parse_fit_gz(p)\n",
    "        if lat.size:\n",
    "            all_lat.append(lat)\n",
    "            all_lon.append(lon)\n",
    "    except Exception as e:\n",
    "        skipped += 1\n",
    "        print(f\"Skipping {p.name}: {e}\")\n",
    "\n",
    "if not all_lat:\n",
    "    raise SystemExit(\"No coordinates parsed from .fit.gz files!\")\n",
    "\n",
    "lats = np.concatenate(all_lat)\n",
    "lons = np.concatenate(all_lon)\n",
    "\n",
    "print(f\"Parsed {lats.size:,} points from {len(gpx_files) - skipped} files (skipped {skipped})\")\n",
    "print(f\"Extent: Lon {lons.min():.5f} .. {lons.max():.5f}, Lat {lats.min():.5f} .. {lats.max():.5f}\")\n"
   ]
  }
 ],
 "metadata": {
  "kernelspec": {
   "display_name": "Python (mapch30)",
   "language": "python",
   "name": "mapch30"
  },
  "language_info": {
   "codemirror_mode": {
    "name": "ipython",
    "version": 3
   },
   "file_extension": ".py",
   "mimetype": "text/x-python",
   "name": "python",
   "nbconvert_exporter": "python",
   "pygments_lexer": "ipython3",
   "version": "3.11.13"
  }
 },
 "nbformat": 4,
 "nbformat_minor": 5
}
